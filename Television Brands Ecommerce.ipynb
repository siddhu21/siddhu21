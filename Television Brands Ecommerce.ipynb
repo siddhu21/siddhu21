{
 "cells": [
  {
   "cell_type": "code",
   "execution_count": 157,
   "metadata": {},
   "outputs": [],
   "source": [
    "import pandas as pd"
   ]
  },
  {
   "cell_type": "code",
   "execution_count": 158,
   "metadata": {},
   "outputs": [
    {
     "data": {
      "text/plain": [
       "'C:\\\\Users\\\\nsidd\\\\OneDrive\\\\Desktop'"
      ]
     },
     "execution_count": 158,
     "metadata": {},
     "output_type": "execute_result"
    }
   ],
   "source": [
    "%pwd"
   ]
  },
  {
   "cell_type": "code",
   "execution_count": 159,
   "metadata": {},
   "outputs": [
    {
     "name": "stdout",
     "output_type": "stream",
     "text": [
      "C:\\Users\\nsidd\\OneDrive\\Desktop\n"
     ]
    }
   ],
   "source": [
    "%cd C:\\Users\\nsidd\\OneDrive\\Desktop"
   ]
  },
  {
   "cell_type": "code",
   "execution_count": 160,
   "metadata": {},
   "outputs": [],
   "source": [
    "df = pd.read_csv(\"TV_Final.csv\",sep=\",\")"
   ]
  },
  {
   "cell_type": "code",
   "execution_count": 161,
   "metadata": {},
   "outputs": [
    {
     "data": {
      "text/html": [
       "<div>\n",
       "<style scoped>\n",
       "    .dataframe tbody tr th:only-of-type {\n",
       "        vertical-align: middle;\n",
       "    }\n",
       "\n",
       "    .dataframe tbody tr th {\n",
       "        vertical-align: top;\n",
       "    }\n",
       "\n",
       "    .dataframe thead th {\n",
       "        text-align: right;\n",
       "    }\n",
       "</style>\n",
       "<table border=\"1\" class=\"dataframe\">\n",
       "  <thead>\n",
       "    <tr style=\"text-align: right;\">\n",
       "      <th></th>\n",
       "      <th>Brand</th>\n",
       "      <th>Resolution</th>\n",
       "      <th>Size</th>\n",
       "      <th>Selling Price</th>\n",
       "      <th>Original Price</th>\n",
       "      <th>Operating System</th>\n",
       "      <th>Rating</th>\n",
       "    </tr>\n",
       "  </thead>\n",
       "  <tbody>\n",
       "    <tr>\n",
       "      <th>0</th>\n",
       "      <td>TOSHIBA</td>\n",
       "      <td>Ultra HD LED</td>\n",
       "      <td>55</td>\n",
       "      <td>37999</td>\n",
       "      <td>54990</td>\n",
       "      <td>VIDAA</td>\n",
       "      <td>4.3</td>\n",
       "    </tr>\n",
       "    <tr>\n",
       "      <th>1</th>\n",
       "      <td>TCL</td>\n",
       "      <td>QLED Ultra HD</td>\n",
       "      <td>55</td>\n",
       "      <td>52999</td>\n",
       "      <td>129990</td>\n",
       "      <td>Android</td>\n",
       "      <td>4.4</td>\n",
       "    </tr>\n",
       "    <tr>\n",
       "      <th>2</th>\n",
       "      <td>realme</td>\n",
       "      <td>HD LED</td>\n",
       "      <td>32</td>\n",
       "      <td>13999</td>\n",
       "      <td>17999</td>\n",
       "      <td>Android</td>\n",
       "      <td>4.3</td>\n",
       "    </tr>\n",
       "    <tr>\n",
       "      <th>3</th>\n",
       "      <td>Mi</td>\n",
       "      <td>HD LED</td>\n",
       "      <td>32</td>\n",
       "      <td>14999</td>\n",
       "      <td>19999</td>\n",
       "      <td>Android</td>\n",
       "      <td>4.4</td>\n",
       "    </tr>\n",
       "    <tr>\n",
       "      <th>4</th>\n",
       "      <td>realme</td>\n",
       "      <td>HD LED</td>\n",
       "      <td>32</td>\n",
       "      <td>12999</td>\n",
       "      <td>21999</td>\n",
       "      <td>Android</td>\n",
       "      <td>4.3</td>\n",
       "    </tr>\n",
       "  </tbody>\n",
       "</table>\n",
       "</div>"
      ],
      "text/plain": [
       "     Brand     Resolution  Size   Selling Price  Original Price  \\\n",
       "0  TOSHIBA   Ultra HD LED     55          37999           54990   \n",
       "1     TCL   QLED Ultra HD     55          52999          129990   \n",
       "2  realme          HD LED     32          13999           17999   \n",
       "3      Mi          HD LED     32          14999           19999   \n",
       "4  realme          HD LED     32          12999           21999   \n",
       "\n",
       "  Operating System  Rating  \n",
       "0            VIDAA     4.3  \n",
       "1          Android     4.4  \n",
       "2          Android     4.3  \n",
       "3          Android     4.4  \n",
       "4          Android     4.3  "
      ]
     },
     "execution_count": 161,
     "metadata": {},
     "output_type": "execute_result"
    }
   ],
   "source": [
    "df.head()"
   ]
  },
  {
   "cell_type": "code",
   "execution_count": 162,
   "metadata": {},
   "outputs": [
    {
     "name": "stdout",
     "output_type": "stream",
     "text": [
      "<class 'pandas.core.frame.DataFrame'>\n",
      "RangeIndex: 912 entries, 0 to 911\n",
      "Data columns (total 7 columns):\n",
      " #   Column            Non-Null Count  Dtype  \n",
      "---  ------            --------------  -----  \n",
      " 0   Brand             912 non-null    object \n",
      " 1   Resolution        912 non-null    object \n",
      " 2   Size              912 non-null    int64  \n",
      " 3   Selling Price     912 non-null    int64  \n",
      " 4   Original Price    912 non-null    int64  \n",
      " 5   Operating System  901 non-null    object \n",
      " 6   Rating            692 non-null    float64\n",
      "dtypes: float64(1), int64(3), object(3)\n",
      "memory usage: 50.0+ KB\n"
     ]
    }
   ],
   "source": [
    "df.info()"
   ]
  },
  {
   "cell_type": "code",
   "execution_count": 163,
   "metadata": {},
   "outputs": [
    {
     "data": {
      "text/plain": [
       "(912, 7)"
      ]
     },
     "execution_count": 163,
     "metadata": {},
     "output_type": "execute_result"
    }
   ],
   "source": [
    "df.shape #No. of Rows vs Columns"
   ]
  },
  {
   "cell_type": "code",
   "execution_count": 165,
   "metadata": {},
   "outputs": [],
   "source": [
    "df['Brand']=df['Brand'].replace(['Samsung'],'SAMSUNG')"
   ]
  },
  {
   "cell_type": "code",
   "execution_count": 166,
   "metadata": {},
   "outputs": [
    {
     "data": {
      "text/html": [
       "<div>\n",
       "<style scoped>\n",
       "    .dataframe tbody tr th:only-of-type {\n",
       "        vertical-align: middle;\n",
       "    }\n",
       "\n",
       "    .dataframe tbody tr th {\n",
       "        vertical-align: top;\n",
       "    }\n",
       "\n",
       "    .dataframe thead th {\n",
       "        text-align: right;\n",
       "    }\n",
       "</style>\n",
       "<table border=\"1\" class=\"dataframe\">\n",
       "  <thead>\n",
       "    <tr style=\"text-align: right;\">\n",
       "      <th></th>\n",
       "      <th>Size</th>\n",
       "      <th>Selling Price</th>\n",
       "      <th>Original Price</th>\n",
       "      <th>Rating</th>\n",
       "    </tr>\n",
       "  </thead>\n",
       "  <tbody>\n",
       "    <tr>\n",
       "      <th>count</th>\n",
       "      <td>912.000000</td>\n",
       "      <td>912.000000</td>\n",
       "      <td>912.000000</td>\n",
       "      <td>692.000000</td>\n",
       "    </tr>\n",
       "    <tr>\n",
       "      <th>mean</th>\n",
       "      <td>45.942982</td>\n",
       "      <td>59358.606360</td>\n",
       "      <td>81975.213816</td>\n",
       "      <td>4.234104</td>\n",
       "    </tr>\n",
       "    <tr>\n",
       "      <th>std</th>\n",
       "      <td>12.316492</td>\n",
       "      <td>65866.677856</td>\n",
       "      <td>84823.568826</td>\n",
       "      <td>0.366694</td>\n",
       "    </tr>\n",
       "    <tr>\n",
       "      <th>min</th>\n",
       "      <td>17.000000</td>\n",
       "      <td>4849.000000</td>\n",
       "      <td>6999.000000</td>\n",
       "      <td>2.000000</td>\n",
       "    </tr>\n",
       "    <tr>\n",
       "      <th>25%</th>\n",
       "      <td>32.000000</td>\n",
       "      <td>19797.500000</td>\n",
       "      <td>28990.000000</td>\n",
       "      <td>4.100000</td>\n",
       "    </tr>\n",
       "    <tr>\n",
       "      <th>50%</th>\n",
       "      <td>43.000000</td>\n",
       "      <td>36990.000000</td>\n",
       "      <td>52900.000000</td>\n",
       "      <td>4.300000</td>\n",
       "    </tr>\n",
       "    <tr>\n",
       "      <th>75%</th>\n",
       "      <td>55.000000</td>\n",
       "      <td>67064.250000</td>\n",
       "      <td>99900.000000</td>\n",
       "      <td>4.400000</td>\n",
       "    </tr>\n",
       "    <tr>\n",
       "      <th>max</th>\n",
       "      <td>85.000000</td>\n",
       "      <td>499990.000000</td>\n",
       "      <td>549990.000000</td>\n",
       "      <td>5.000000</td>\n",
       "    </tr>\n",
       "  </tbody>\n",
       "</table>\n",
       "</div>"
      ],
      "text/plain": [
       "            Size   Selling Price  Original Price      Rating\n",
       "count  912.000000     912.000000      912.000000  692.000000\n",
       "mean    45.942982   59358.606360    81975.213816    4.234104\n",
       "std     12.316492   65866.677856    84823.568826    0.366694\n",
       "min     17.000000    4849.000000     6999.000000    2.000000\n",
       "25%     32.000000   19797.500000    28990.000000    4.100000\n",
       "50%     43.000000   36990.000000    52900.000000    4.300000\n",
       "75%     55.000000   67064.250000    99900.000000    4.400000\n",
       "max     85.000000  499990.000000   549990.000000    5.000000"
      ]
     },
     "execution_count": 166,
     "metadata": {},
     "output_type": "execute_result"
    }
   ],
   "source": [
    "# Data Description\n",
    "df.describe() "
   ]
  },
  {
   "cell_type": "code",
   "execution_count": 167,
   "metadata": {},
   "outputs": [
    {
     "data": {
      "text/plain": [
       "Brand                 0\n",
       "Resolution            0\n",
       "Size                  0\n",
       "Selling Price         0\n",
       "Original Price        0\n",
       "Operating System     11\n",
       "Rating              220\n",
       "dtype: int64"
      ]
     },
     "execution_count": 167,
     "metadata": {},
     "output_type": "execute_result"
    }
   ],
   "source": [
    "#No. of Missing Values\n",
    "df.isnull().sum()"
   ]
  },
  {
   "cell_type": "code",
   "execution_count": 183,
   "metadata": {},
   "outputs": [
    {
     "data": {
      "text/plain": [
       "Brand                58\n",
       "Resolution            5\n",
       "Size                 27\n",
       "Selling Price       515\n",
       "Original Price      455\n",
       "Operating System      7\n",
       "Rating               25\n",
       "dtype: int64"
      ]
     },
     "execution_count": 183,
     "metadata": {},
     "output_type": "execute_result"
    }
   ],
   "source": [
    "df.nunique()"
   ]
  },
  {
   "cell_type": "code",
   "execution_count": 364,
   "metadata": {},
   "outputs": [],
   "source": [
    "## Number of Unique values for each column"
   ]
  },
  {
   "cell_type": "code",
   "execution_count": 185,
   "metadata": {},
   "outputs": [],
   "source": [
    "# Filling OS missing values with mode\n",
    "df['Operating System']=df['Operating System'].fillna(df['Operating System'].mode()[0])"
   ]
  },
  {
   "cell_type": "code",
   "execution_count": 186,
   "metadata": {},
   "outputs": [
    {
     "data": {
      "text/plain": [
       "Brand               0\n",
       "Resolution          0\n",
       "Size                0\n",
       "Selling Price       0\n",
       "Original Price      0\n",
       "Operating System    0\n",
       "Rating              0\n",
       "dtype: int64"
      ]
     },
     "execution_count": 186,
     "metadata": {},
     "output_type": "execute_result"
    }
   ],
   "source": [
    "df.isnull().sum()"
   ]
  },
  {
   "cell_type": "code",
   "execution_count": 187,
   "metadata": {},
   "outputs": [],
   "source": [
    "# Filling Null values using ffill\n",
    "df['Rating']=df['Rating'].fillna(method='ffill')"
   ]
  },
  {
   "cell_type": "code",
   "execution_count": 188,
   "metadata": {},
   "outputs": [
    {
     "data": {
      "text/plain": [
       "Brand               0\n",
       "Resolution          0\n",
       "Size                0\n",
       "Selling Price       0\n",
       "Original Price      0\n",
       "Operating System    0\n",
       "Rating              0\n",
       "dtype: int64"
      ]
     },
     "execution_count": 188,
     "metadata": {},
     "output_type": "execute_result"
    }
   ],
   "source": [
    "df.isnull().sum()"
   ]
  },
  {
   "cell_type": "code",
   "execution_count": 189,
   "metadata": {},
   "outputs": [
    {
     "data": {
      "text/html": [
       "<div>\n",
       "<style scoped>\n",
       "    .dataframe tbody tr th:only-of-type {\n",
       "        vertical-align: middle;\n",
       "    }\n",
       "\n",
       "    .dataframe tbody tr th {\n",
       "        vertical-align: top;\n",
       "    }\n",
       "\n",
       "    .dataframe thead th {\n",
       "        text-align: right;\n",
       "    }\n",
       "</style>\n",
       "<table border=\"1\" class=\"dataframe\">\n",
       "  <thead>\n",
       "    <tr style=\"text-align: right;\">\n",
       "      <th></th>\n",
       "      <th>Brand</th>\n",
       "      <th>Resolution</th>\n",
       "      <th>Size</th>\n",
       "      <th>Selling Price</th>\n",
       "      <th>Original Price</th>\n",
       "      <th>Operating System</th>\n",
       "      <th>Rating</th>\n",
       "    </tr>\n",
       "  </thead>\n",
       "  <tbody>\n",
       "    <tr>\n",
       "      <th>0</th>\n",
       "      <td>TOSHIBA</td>\n",
       "      <td>Ultra HD LED</td>\n",
       "      <td>55</td>\n",
       "      <td>37999</td>\n",
       "      <td>54990</td>\n",
       "      <td>VIDAA</td>\n",
       "      <td>4.3</td>\n",
       "    </tr>\n",
       "    <tr>\n",
       "      <th>1</th>\n",
       "      <td>TCL</td>\n",
       "      <td>QLED Ultra HD</td>\n",
       "      <td>55</td>\n",
       "      <td>52999</td>\n",
       "      <td>129990</td>\n",
       "      <td>Android</td>\n",
       "      <td>4.4</td>\n",
       "    </tr>\n",
       "    <tr>\n",
       "      <th>2</th>\n",
       "      <td>realme</td>\n",
       "      <td>HD LED</td>\n",
       "      <td>32</td>\n",
       "      <td>13999</td>\n",
       "      <td>17999</td>\n",
       "      <td>Android</td>\n",
       "      <td>4.3</td>\n",
       "    </tr>\n",
       "    <tr>\n",
       "      <th>3</th>\n",
       "      <td>Mi</td>\n",
       "      <td>HD LED</td>\n",
       "      <td>32</td>\n",
       "      <td>14999</td>\n",
       "      <td>19999</td>\n",
       "      <td>Android</td>\n",
       "      <td>4.4</td>\n",
       "    </tr>\n",
       "    <tr>\n",
       "      <th>4</th>\n",
       "      <td>realme</td>\n",
       "      <td>HD LED</td>\n",
       "      <td>32</td>\n",
       "      <td>12999</td>\n",
       "      <td>21999</td>\n",
       "      <td>Android</td>\n",
       "      <td>4.3</td>\n",
       "    </tr>\n",
       "  </tbody>\n",
       "</table>\n",
       "</div>"
      ],
      "text/plain": [
       "     Brand     Resolution  Size   Selling Price  Original Price  \\\n",
       "0  TOSHIBA   Ultra HD LED     55          37999           54990   \n",
       "1     TCL   QLED Ultra HD     55          52999          129990   \n",
       "2  realme          HD LED     32          13999           17999   \n",
       "3      Mi          HD LED     32          14999           19999   \n",
       "4  realme          HD LED     32          12999           21999   \n",
       "\n",
       "  Operating System  Rating  \n",
       "0            VIDAA     4.3  \n",
       "1          Android     4.4  \n",
       "2          Android     4.3  \n",
       "3          Android     4.4  \n",
       "4          Android     4.3  "
      ]
     },
     "execution_count": 189,
     "metadata": {},
     "output_type": "execute_result"
    }
   ],
   "source": [
    "df.head()"
   ]
  },
  {
   "cell_type": "code",
   "execution_count": 190,
   "metadata": {},
   "outputs": [
    {
     "data": {
      "text/plain": [
       "SAMSUNG             146\n",
       "LG                  122\n",
       "SONY                 62\n",
       "TCL                  44\n",
       "Panasonic            30\n",
       "Micromax             25\n",
       "Vu                   23\n",
       "Lloyd                22\n",
       "iFFALCON by TCL      19\n",
       "Mi                   19\n",
       "Haier                18\n",
       "Sansui               18\n",
       "Thomson              18\n",
       "PHILIPS              17\n",
       "KODAK                15\n",
       "MOTOROLA             15\n",
       "Blaupunkt            15\n",
       "TOSHIBA              13\n",
       "IMPEX                13\n",
       "Onida                12\n",
       "Candes               12\n",
       "Croma                12\n",
       "T-Series             11\n",
       "Nokia                11\n",
       "Power Guard          11\n",
       "Hisense              10\n",
       "Coocaa                9\n",
       "CloudWalker           9\n",
       "RGL                   9\n",
       "OnePlus               9\n",
       "Acer                  9\n",
       "Onix                  8\n",
       "MarQ by Flipkart      8\n",
       "G-TEN                 8\n",
       "AISEN                 8\n",
       "Sharp                 8\n",
       "realme                7\n",
       "Intex                 7\n",
       "Adsun                 7\n",
       "JVC                   6\n",
       "LumX                  6\n",
       "HUIDI                 6\n",
       "Dyanora               6\n",
       "Akai                  6\n",
       "Compaq                5\n",
       "Weston                5\n",
       "VG                    4\n",
       "BPL                   4\n",
       "MURPHY                4\n",
       "Dektron               4\n",
       "Oxygen                3\n",
       "KRISONS               3\n",
       "Infinix               3\n",
       "DETEL                 3\n",
       "Sanyo                 2\n",
       "Sun King              1\n",
       "Maser                 1\n",
       "Skyworth              1\n",
       "Name: Brand, dtype: int64"
      ]
     },
     "execution_count": 190,
     "metadata": {},
     "output_type": "execute_result"
    }
   ],
   "source": [
    "# No. of TVs Brand wise\n",
    "df['Brand'].value_counts()"
   ]
  },
  {
   "cell_type": "code",
   "execution_count": 191,
   "metadata": {},
   "outputs": [
    {
     "data": {
      "text/plain": [
       "array(['TOSHIBA', 'TCL ', 'realme ', 'Mi ', 'OnePlus', 'Hisense', 'LG ',\n",
       "       'MarQ by Flipkart', 'iFFALCON by TCL', 'Coocaa ', 'SAMSUNG',\n",
       "       'Infinix', 'Vu', 'Nokia ', 'Thomson', 'SONY ', 'KODAK ',\n",
       "       'MOTOROLA', 'PHILIPS', 'Acer', 'Blaupunkt', 'Adsun', 'T-Series',\n",
       "       'Panasonic', 'Micromax', 'Sansui ', 'Croma ', 'Candes ', 'Dyanora',\n",
       "       'Haier ', 'Onida', 'RGL ', 'Lloyd ', 'LumX ', 'Onix ', 'IMPEX ',\n",
       "       'BPL ', 'CloudWalker', 'Oxygen ', 'Power Guard', 'Akai ', 'VG ',\n",
       "       'Sun King', 'Compaq ', 'HUIDI ', 'Intex ', 'DETEL ', 'JVC',\n",
       "       'G-TEN ', 'Skyworth', 'Maser ', 'Sanyo ', 'MURPHY ', 'Dektron',\n",
       "       'Sharp ', 'KRISONS', 'Weston ', 'AISEN  '], dtype=object)"
      ]
     },
     "execution_count": 191,
     "metadata": {},
     "output_type": "execute_result"
    }
   ],
   "source": [
    "# Total TV Brands present in dataset\n",
    "df['Brand'].unique() "
   ]
  },
  {
   "cell_type": "code",
   "execution_count": 192,
   "metadata": {},
   "outputs": [
    {
     "data": {
      "text/plain": [
       "Ultra HD LED     399\n",
       "HD LED           229\n",
       "Full HD LED      220\n",
       "QLED Ultra HD     60\n",
       "HD Plasma          4\n",
       "Name: Resolution, dtype: int64"
      ]
     },
     "execution_count": 192,
     "metadata": {},
     "output_type": "execute_result"
    }
   ],
   "source": [
    "## There are a total of 5 differet Resolutions available. Where, Ultra HD LED Tv have higher demand. Also, Top 3 categories comes under LED TV\n",
    "df['Resolution'].value_counts()"
   ]
  },
  {
   "cell_type": "code",
   "execution_count": 209,
   "metadata": {},
   "outputs": [
    {
     "data": {
      "text/plain": [
       "Operating System  Resolution   \n",
       "Android           Ultra HD LED     203\n",
       "                  HD LED           150\n",
       "                  Full HD LED      109\n",
       "                  QLED Ultra HD     23\n",
       "FireTV OS         HD LED             2\n",
       "                  Ultra HD LED       2\n",
       "                  Full HD LED        1\n",
       "HomeOS            HD LED            16\n",
       "                  Full HD LED        9\n",
       "                  Ultra HD LED       3\n",
       "Linux             Ultra HD LED      50\n",
       "                  Full HD LED       38\n",
       "                  HD LED            38\n",
       "                  QLED Ultra HD      1\n",
       "Tizen             Ultra HD LED      54\n",
       "                  Full HD LED       37\n",
       "                  QLED Ultra HD     36\n",
       "                  HD LED            16\n",
       "                  HD Plasma          2\n",
       "VIDAA             Ultra HD LED       8\n",
       "                  Full HD LED        3\n",
       "                  HD LED             2\n",
       "WebOS             Ultra HD LED      79\n",
       "                  Full HD LED       23\n",
       "                  HD LED             5\n",
       "                  HD Plasma          2\n",
       "Name: Resolution, dtype: int64"
      ]
     },
     "execution_count": 209,
     "metadata": {},
     "output_type": "execute_result"
    }
   ],
   "source": [
    "# OS Vs Resolution Tv Counts\n",
    "df.groupby(['Operating System'])['Resolution'].value_counts()"
   ]
  },
  {
   "cell_type": "code",
   "execution_count": null,
   "metadata": {},
   "outputs": [],
   "source": [
    "## if we see OS vs Resolution. Most of the HD LED Tvs have Android has their OS which comprises of 485 "
   ]
  },
  {
   "cell_type": "code",
   "execution_count": 205,
   "metadata": {},
   "outputs": [
    {
     "data": {
      "text/plain": [
       "Android      485\n",
       "Tizen        145\n",
       "Linux        127\n",
       "WebOS        109\n",
       "HomeOS        28\n",
       "VIDAA         13\n",
       "FireTV OS      5\n",
       "Name: Operating System, dtype: int64"
      ]
     },
     "execution_count": 205,
     "metadata": {},
     "output_type": "execute_result"
    }
   ],
   "source": [
    "#Types of Operating Systems for all TVs\n",
    "df['Operating System'].value_counts()"
   ]
  },
  {
   "cell_type": "code",
   "execution_count": 217,
   "metadata": {},
   "outputs": [
    {
     "data": {
      "text/plain": [
       "SAMSUNG      146\n",
       "LG           122\n",
       "SONY          62\n",
       "TCL           44\n",
       "Panasonic     30\n",
       "Name: Brand, dtype: int64"
      ]
     },
     "execution_count": 217,
     "metadata": {},
     "output_type": "execute_result"
    }
   ],
   "source": [
    "df['Brand'].value_counts().iloc[:5]"
   ]
  },
  {
   "cell_type": "code",
   "execution_count": 218,
   "metadata": {},
   "outputs": [],
   "source": [
    "### These are top 5 brands in the market. Samsung has maximum no. of Tvs followed by LG. Rest all have lesser products "
   ]
  },
  {
   "cell_type": "code",
   "execution_count": 235,
   "metadata": {},
   "outputs": [],
   "source": [
    "# I have filtered few brands based on my Interest (You can add ur brand and get specific data)"
   ]
  },
  {
   "cell_type": "code",
   "execution_count": 225,
   "metadata": {},
   "outputs": [],
   "source": [
    "brand = ['SONY ', 'SAMSUNG']\n",
    "\n",
    "sony_df=df[df['Brand'].isin(brand)]"
   ]
  },
  {
   "cell_type": "code",
   "execution_count": 236,
   "metadata": {},
   "outputs": [],
   "source": [
    "sony= sony_df[sony_df['Brand']=='SONY ']"
   ]
  },
  {
   "cell_type": "code",
   "execution_count": 237,
   "metadata": {},
   "outputs": [
    {
     "data": {
      "text/html": [
       "<div>\n",
       "<style scoped>\n",
       "    .dataframe tbody tr th:only-of-type {\n",
       "        vertical-align: middle;\n",
       "    }\n",
       "\n",
       "    .dataframe tbody tr th {\n",
       "        vertical-align: top;\n",
       "    }\n",
       "\n",
       "    .dataframe thead th {\n",
       "        text-align: right;\n",
       "    }\n",
       "</style>\n",
       "<table border=\"1\" class=\"dataframe\">\n",
       "  <thead>\n",
       "    <tr style=\"text-align: right;\">\n",
       "      <th></th>\n",
       "      <th>Brand</th>\n",
       "      <th>Resolution</th>\n",
       "      <th>Size</th>\n",
       "      <th>Selling Price</th>\n",
       "      <th>Original Price</th>\n",
       "      <th>Operating System</th>\n",
       "      <th>Rating</th>\n",
       "    </tr>\n",
       "  </thead>\n",
       "  <tbody>\n",
       "    <tr>\n",
       "      <th>51</th>\n",
       "      <td>SONY</td>\n",
       "      <td>HD LED</td>\n",
       "      <td>32</td>\n",
       "      <td>25490</td>\n",
       "      <td>29900</td>\n",
       "      <td>Linux</td>\n",
       "      <td>4.5</td>\n",
       "    </tr>\n",
       "    <tr>\n",
       "      <th>66</th>\n",
       "      <td>SONY</td>\n",
       "      <td>Full HD LED</td>\n",
       "      <td>43</td>\n",
       "      <td>43490</td>\n",
       "      <td>44900</td>\n",
       "      <td>Linux</td>\n",
       "      <td>4.5</td>\n",
       "    </tr>\n",
       "    <tr>\n",
       "      <th>71</th>\n",
       "      <td>SONY</td>\n",
       "      <td>Full HD LED</td>\n",
       "      <td>49</td>\n",
       "      <td>44999</td>\n",
       "      <td>69900</td>\n",
       "      <td>Android</td>\n",
       "      <td>4.5</td>\n",
       "    </tr>\n",
       "    <tr>\n",
       "      <th>103</th>\n",
       "      <td>SONY</td>\n",
       "      <td>Ultra HD LED</td>\n",
       "      <td>43</td>\n",
       "      <td>44999</td>\n",
       "      <td>66900</td>\n",
       "      <td>Linux</td>\n",
       "      <td>4.5</td>\n",
       "    </tr>\n",
       "    <tr>\n",
       "      <th>113</th>\n",
       "      <td>SONY</td>\n",
       "      <td>Full HD LED</td>\n",
       "      <td>43</td>\n",
       "      <td>44900</td>\n",
       "      <td>44900</td>\n",
       "      <td>Linux</td>\n",
       "      <td>4.6</td>\n",
       "    </tr>\n",
       "    <tr>\n",
       "      <th>...</th>\n",
       "      <td>...</td>\n",
       "      <td>...</td>\n",
       "      <td>...</td>\n",
       "      <td>...</td>\n",
       "      <td>...</td>\n",
       "      <td>...</td>\n",
       "      <td>...</td>\n",
       "    </tr>\n",
       "    <tr>\n",
       "      <th>907</th>\n",
       "      <td>SONY</td>\n",
       "      <td>Full HD LED</td>\n",
       "      <td>43</td>\n",
       "      <td>44999</td>\n",
       "      <td>57900</td>\n",
       "      <td>Linux</td>\n",
       "      <td>4.4</td>\n",
       "    </tr>\n",
       "    <tr>\n",
       "      <th>908</th>\n",
       "      <td>SONY</td>\n",
       "      <td>Full HD LED</td>\n",
       "      <td>40</td>\n",
       "      <td>41499</td>\n",
       "      <td>51900</td>\n",
       "      <td>Linux</td>\n",
       "      <td>4.6</td>\n",
       "    </tr>\n",
       "    <tr>\n",
       "      <th>909</th>\n",
       "      <td>SONY</td>\n",
       "      <td>Ultra HD LED</td>\n",
       "      <td>65</td>\n",
       "      <td>149990</td>\n",
       "      <td>184990</td>\n",
       "      <td>Linux</td>\n",
       "      <td>4.3</td>\n",
       "    </tr>\n",
       "    <tr>\n",
       "      <th>910</th>\n",
       "      <td>SONY</td>\n",
       "      <td>HD LED</td>\n",
       "      <td>32</td>\n",
       "      <td>32900</td>\n",
       "      <td>32900</td>\n",
       "      <td>Linux</td>\n",
       "      <td>4.4</td>\n",
       "    </tr>\n",
       "    <tr>\n",
       "      <th>911</th>\n",
       "      <td>SONY</td>\n",
       "      <td>Full HD LED</td>\n",
       "      <td>43</td>\n",
       "      <td>56900</td>\n",
       "      <td>56900</td>\n",
       "      <td>Linux</td>\n",
       "      <td>4.6</td>\n",
       "    </tr>\n",
       "  </tbody>\n",
       "</table>\n",
       "<p>62 rows × 7 columns</p>\n",
       "</div>"
      ],
      "text/plain": [
       "     Brand    Resolution  Size   Selling Price  Original Price  \\\n",
       "51   SONY         HD LED     32          25490           29900   \n",
       "66   SONY    Full HD LED     43          43490           44900   \n",
       "71   SONY    Full HD LED     49          44999           69900   \n",
       "103  SONY   Ultra HD LED     43          44999           66900   \n",
       "113  SONY    Full HD LED     43          44900           44900   \n",
       "..     ...           ...    ...            ...             ...   \n",
       "907  SONY    Full HD LED     43          44999           57900   \n",
       "908  SONY    Full HD LED     40          41499           51900   \n",
       "909  SONY   Ultra HD LED     65         149990          184990   \n",
       "910  SONY         HD LED     32          32900           32900   \n",
       "911  SONY    Full HD LED     43          56900           56900   \n",
       "\n",
       "    Operating System  Rating  \n",
       "51             Linux     4.5  \n",
       "66             Linux     4.5  \n",
       "71           Android     4.5  \n",
       "103            Linux     4.5  \n",
       "113            Linux     4.6  \n",
       "..               ...     ...  \n",
       "907            Linux     4.4  \n",
       "908            Linux     4.6  \n",
       "909            Linux     4.3  \n",
       "910            Linux     4.4  \n",
       "911            Linux     4.6  \n",
       "\n",
       "[62 rows x 7 columns]"
      ]
     },
     "execution_count": 237,
     "metadata": {},
     "output_type": "execute_result"
    }
   ],
   "source": [
    "sony"
   ]
  },
  {
   "cell_type": "code",
   "execution_count": 238,
   "metadata": {},
   "outputs": [
    {
     "data": {
      "text/plain": [
       "Brand  Resolution  \n",
       "SONY   Ultra HD LED    38\n",
       "       Full HD LED     16\n",
       "       HD LED           8\n",
       "Name: Resolution, dtype: int64"
      ]
     },
     "execution_count": 238,
     "metadata": {},
     "output_type": "execute_result"
    }
   ],
   "source": [
    "sony.groupby(['Brand'])['Resolution'].value_counts()"
   ]
  },
  {
   "cell_type": "code",
   "execution_count": 229,
   "metadata": {},
   "outputs": [
    {
     "data": {
      "text/plain": [
       "Brand  Operating System\n",
       "SONY   Linux               34\n",
       "       Android             28\n",
       "Name: Operating System, dtype: int64"
      ]
     },
     "execution_count": 229,
     "metadata": {},
     "output_type": "execute_result"
    }
   ],
   "source": [
    "sony.groupby(['Brand'])['Operating System'].value_counts()"
   ]
  },
  {
   "cell_type": "code",
   "execution_count": 244,
   "metadata": {},
   "outputs": [
    {
     "data": {
      "text/plain": [
       "4.493548387096775"
      ]
     },
     "execution_count": 244,
     "metadata": {},
     "output_type": "execute_result"
    }
   ],
   "source": [
    "sony['Rating'].mean()"
   ]
  },
  {
   "cell_type": "code",
   "execution_count": 239,
   "metadata": {},
   "outputs": [],
   "source": [
    "### SONY has only 3 kinds of Resolutions available. \n",
    "### It also supports only Linux & Android OS. \n",
    "### It has 4.49 Average Rating."
   ]
  },
  {
   "cell_type": "code",
   "execution_count": 256,
   "metadata": {},
   "outputs": [],
   "source": [
    "# SAMSUNG"
   ]
  },
  {
   "cell_type": "code",
   "execution_count": 257,
   "metadata": {},
   "outputs": [],
   "source": [
    "samsung= sony_df[sony_df['Brand']== 'SAMSUNG']"
   ]
  },
  {
   "cell_type": "code",
   "execution_count": 258,
   "metadata": {},
   "outputs": [
    {
     "data": {
      "text/html": [
       "<div>\n",
       "<style scoped>\n",
       "    .dataframe tbody tr th:only-of-type {\n",
       "        vertical-align: middle;\n",
       "    }\n",
       "\n",
       "    .dataframe tbody tr th {\n",
       "        vertical-align: top;\n",
       "    }\n",
       "\n",
       "    .dataframe thead th {\n",
       "        text-align: right;\n",
       "    }\n",
       "</style>\n",
       "<table border=\"1\" class=\"dataframe\">\n",
       "  <thead>\n",
       "    <tr style=\"text-align: right;\">\n",
       "      <th></th>\n",
       "      <th>Brand</th>\n",
       "      <th>Resolution</th>\n",
       "      <th>Size</th>\n",
       "      <th>Selling Price</th>\n",
       "      <th>Original Price</th>\n",
       "      <th>Operating System</th>\n",
       "      <th>Rating</th>\n",
       "    </tr>\n",
       "  </thead>\n",
       "  <tbody>\n",
       "    <tr>\n",
       "      <th>28</th>\n",
       "      <td>SAMSUNG</td>\n",
       "      <td>Ultra HD LED</td>\n",
       "      <td>43</td>\n",
       "      <td>38990</td>\n",
       "      <td>54900</td>\n",
       "      <td>Tizen</td>\n",
       "      <td>4.3</td>\n",
       "    </tr>\n",
       "    <tr>\n",
       "      <th>56</th>\n",
       "      <td>SAMSUNG</td>\n",
       "      <td>HD LED</td>\n",
       "      <td>32</td>\n",
       "      <td>18490</td>\n",
       "      <td>20900</td>\n",
       "      <td>Tizen</td>\n",
       "      <td>4.3</td>\n",
       "    </tr>\n",
       "    <tr>\n",
       "      <th>63</th>\n",
       "      <td>SAMSUNG</td>\n",
       "      <td>Ultra HD LED</td>\n",
       "      <td>50</td>\n",
       "      <td>51990</td>\n",
       "      <td>71400</td>\n",
       "      <td>Tizen</td>\n",
       "      <td>4.3</td>\n",
       "    </tr>\n",
       "    <tr>\n",
       "      <th>77</th>\n",
       "      <td>SAMSUNG</td>\n",
       "      <td>HD LED</td>\n",
       "      <td>32</td>\n",
       "      <td>16290</td>\n",
       "      <td>16400</td>\n",
       "      <td>Tizen</td>\n",
       "      <td>4.3</td>\n",
       "    </tr>\n",
       "    <tr>\n",
       "      <th>84</th>\n",
       "      <td>SAMSUNG</td>\n",
       "      <td>QLED Ultra HD</td>\n",
       "      <td>55</td>\n",
       "      <td>76999</td>\n",
       "      <td>129900</td>\n",
       "      <td>Tizen</td>\n",
       "      <td>4.5</td>\n",
       "    </tr>\n",
       "    <tr>\n",
       "      <th>...</th>\n",
       "      <td>...</td>\n",
       "      <td>...</td>\n",
       "      <td>...</td>\n",
       "      <td>...</td>\n",
       "      <td>...</td>\n",
       "      <td>...</td>\n",
       "      <td>...</td>\n",
       "    </tr>\n",
       "    <tr>\n",
       "      <th>696</th>\n",
       "      <td>SAMSUNG</td>\n",
       "      <td>HD Plasma</td>\n",
       "      <td>49</td>\n",
       "      <td>68000</td>\n",
       "      <td>68000</td>\n",
       "      <td>Tizen</td>\n",
       "      <td>3.3</td>\n",
       "    </tr>\n",
       "    <tr>\n",
       "      <th>709</th>\n",
       "      <td>SAMSUNG</td>\n",
       "      <td>HD LED</td>\n",
       "      <td>32</td>\n",
       "      <td>35700</td>\n",
       "      <td>35700</td>\n",
       "      <td>Tizen</td>\n",
       "      <td>3.3</td>\n",
       "    </tr>\n",
       "    <tr>\n",
       "      <th>718</th>\n",
       "      <td>SAMSUNG</td>\n",
       "      <td>Full HD LED</td>\n",
       "      <td>65</td>\n",
       "      <td>385500</td>\n",
       "      <td>385500</td>\n",
       "      <td>Tizen</td>\n",
       "      <td>4.3</td>\n",
       "    </tr>\n",
       "    <tr>\n",
       "      <th>720</th>\n",
       "      <td>SAMSUNG</td>\n",
       "      <td>Full HD LED</td>\n",
       "      <td>75</td>\n",
       "      <td>419900</td>\n",
       "      <td>419900</td>\n",
       "      <td>Tizen</td>\n",
       "      <td>5.0</td>\n",
       "    </tr>\n",
       "    <tr>\n",
       "      <th>724</th>\n",
       "      <td>SAMSUNG</td>\n",
       "      <td>HD LED</td>\n",
       "      <td>48</td>\n",
       "      <td>70500</td>\n",
       "      <td>70500</td>\n",
       "      <td>Tizen</td>\n",
       "      <td>4.0</td>\n",
       "    </tr>\n",
       "  </tbody>\n",
       "</table>\n",
       "<p>146 rows × 7 columns</p>\n",
       "</div>"
      ],
      "text/plain": [
       "       Brand     Resolution  Size   Selling Price  Original Price  \\\n",
       "28   SAMSUNG   Ultra HD LED     43          38990           54900   \n",
       "56   SAMSUNG         HD LED     32          18490           20900   \n",
       "63   SAMSUNG   Ultra HD LED     50          51990           71400   \n",
       "77   SAMSUNG         HD LED     32          16290           16400   \n",
       "84   SAMSUNG  QLED Ultra HD     55          76999          129900   \n",
       "..       ...            ...    ...            ...             ...   \n",
       "696  SAMSUNG      HD Plasma     49          68000           68000   \n",
       "709  SAMSUNG         HD LED     32          35700           35700   \n",
       "718  SAMSUNG    Full HD LED     65         385500          385500   \n",
       "720  SAMSUNG    Full HD LED     75         419900          419900   \n",
       "724  SAMSUNG         HD LED     48          70500           70500   \n",
       "\n",
       "    Operating System  Rating  \n",
       "28             Tizen     4.3  \n",
       "56             Tizen     4.3  \n",
       "63             Tizen     4.3  \n",
       "77             Tizen     4.3  \n",
       "84             Tizen     4.5  \n",
       "..               ...     ...  \n",
       "696            Tizen     3.3  \n",
       "709            Tizen     3.3  \n",
       "718            Tizen     4.3  \n",
       "720            Tizen     5.0  \n",
       "724            Tizen     4.0  \n",
       "\n",
       "[146 rows x 7 columns]"
      ]
     },
     "execution_count": 258,
     "metadata": {},
     "output_type": "execute_result"
    }
   ],
   "source": [
    "samsung"
   ]
  },
  {
   "cell_type": "code",
   "execution_count": 259,
   "metadata": {},
   "outputs": [
    {
     "data": {
      "text/plain": [
       "Brand    Resolution   \n",
       "SAMSUNG  Ultra HD LED     55\n",
       "         Full HD LED      37\n",
       "         QLED Ultra HD    36\n",
       "         HD LED           16\n",
       "         HD Plasma         2\n",
       "Name: Resolution, dtype: int64"
      ]
     },
     "execution_count": 259,
     "metadata": {},
     "output_type": "execute_result"
    }
   ],
   "source": [
    "samsung.groupby(['Brand'])['Resolution'].value_counts()"
   ]
  },
  {
   "cell_type": "code",
   "execution_count": 260,
   "metadata": {},
   "outputs": [
    {
     "data": {
      "text/plain": [
       "Brand    Operating System\n",
       "SAMSUNG  Tizen               145\n",
       "         Linux                 1\n",
       "Name: Operating System, dtype: int64"
      ]
     },
     "execution_count": 260,
     "metadata": {},
     "output_type": "execute_result"
    }
   ],
   "source": [
    "samsung.groupby(['Brand'])['Operating System'].value_counts()"
   ]
  },
  {
   "cell_type": "code",
   "execution_count": 261,
   "metadata": {},
   "outputs": [
    {
     "data": {
      "text/plain": [
       "4.234246575342464"
      ]
     },
     "execution_count": 261,
     "metadata": {},
     "output_type": "execute_result"
    }
   ],
   "source": [
    "samsung['Rating'].mean()"
   ]
  },
  {
   "cell_type": "code",
   "execution_count": 262,
   "metadata": {},
   "outputs": [],
   "source": [
    "### Samsung has all 5 different kinds of Resolutions in its catalog. \n",
    "### It supports Tizen which is a part of Linux based OS.\n",
    "### It has 4.23 Average Rating (less compared to SONY)"
   ]
  },
  {
   "cell_type": "code",
   "execution_count": 266,
   "metadata": {},
   "outputs": [],
   "source": [
    "brand = ['SONY ', 'SAMSUNG', 'LG ']\n",
    "\n",
    "sony_df=df[df['Brand'].isin(brand)]"
   ]
  },
  {
   "cell_type": "code",
   "execution_count": 267,
   "metadata": {},
   "outputs": [
    {
     "data": {
      "text/plain": [
       "SAMSUNG    146\n",
       "LG         122\n",
       "SONY        62\n",
       "Name: Brand, dtype: int64"
      ]
     },
     "execution_count": 267,
     "metadata": {},
     "output_type": "execute_result"
    }
   ],
   "source": [
    "sony_df['Brand'].value_counts()"
   ]
  },
  {
   "cell_type": "code",
   "execution_count": 269,
   "metadata": {},
   "outputs": [],
   "source": [
    "#LG\n",
    "LG= sony_df[sony_df['Brand']== 'LG ']"
   ]
  },
  {
   "cell_type": "code",
   "execution_count": 270,
   "metadata": {},
   "outputs": [
    {
     "data": {
      "text/html": [
       "<div>\n",
       "<style scoped>\n",
       "    .dataframe tbody tr th:only-of-type {\n",
       "        vertical-align: middle;\n",
       "    }\n",
       "\n",
       "    .dataframe tbody tr th {\n",
       "        vertical-align: top;\n",
       "    }\n",
       "\n",
       "    .dataframe thead th {\n",
       "        text-align: right;\n",
       "    }\n",
       "</style>\n",
       "<table border=\"1\" class=\"dataframe\">\n",
       "  <thead>\n",
       "    <tr style=\"text-align: right;\">\n",
       "      <th></th>\n",
       "      <th>Brand</th>\n",
       "      <th>Resolution</th>\n",
       "      <th>Size</th>\n",
       "      <th>Selling Price</th>\n",
       "      <th>Original Price</th>\n",
       "      <th>Operating System</th>\n",
       "      <th>Rating</th>\n",
       "    </tr>\n",
       "  </thead>\n",
       "  <tbody>\n",
       "    <tr>\n",
       "      <th>16</th>\n",
       "      <td>LG</td>\n",
       "      <td>HD LED</td>\n",
       "      <td>32</td>\n",
       "      <td>17499</td>\n",
       "      <td>21990</td>\n",
       "      <td>Linux</td>\n",
       "      <td>4.4</td>\n",
       "    </tr>\n",
       "    <tr>\n",
       "      <th>30</th>\n",
       "      <td>LG</td>\n",
       "      <td>Full HD LED</td>\n",
       "      <td>43</td>\n",
       "      <td>33490</td>\n",
       "      <td>40990</td>\n",
       "      <td>WebOS</td>\n",
       "      <td>4.4</td>\n",
       "    </tr>\n",
       "    <tr>\n",
       "      <th>34</th>\n",
       "      <td>LG</td>\n",
       "      <td>Ultra HD LED</td>\n",
       "      <td>55</td>\n",
       "      <td>52999</td>\n",
       "      <td>79990</td>\n",
       "      <td>WebOS</td>\n",
       "      <td>4.4</td>\n",
       "    </tr>\n",
       "    <tr>\n",
       "      <th>44</th>\n",
       "      <td>LG</td>\n",
       "      <td>Ultra HD LED</td>\n",
       "      <td>43</td>\n",
       "      <td>42990</td>\n",
       "      <td>59990</td>\n",
       "      <td>WebOS</td>\n",
       "      <td>4.5</td>\n",
       "    </tr>\n",
       "    <tr>\n",
       "      <th>57</th>\n",
       "      <td>LG</td>\n",
       "      <td>Ultra HD LED</td>\n",
       "      <td>50</td>\n",
       "      <td>49999</td>\n",
       "      <td>64990</td>\n",
       "      <td>WebOS</td>\n",
       "      <td>4.4</td>\n",
       "    </tr>\n",
       "    <tr>\n",
       "      <th>...</th>\n",
       "      <td>...</td>\n",
       "      <td>...</td>\n",
       "      <td>...</td>\n",
       "      <td>...</td>\n",
       "      <td>...</td>\n",
       "      <td>...</td>\n",
       "      <td>...</td>\n",
       "    </tr>\n",
       "    <tr>\n",
       "      <th>712</th>\n",
       "      <td>LG</td>\n",
       "      <td>Ultra HD LED</td>\n",
       "      <td>55</td>\n",
       "      <td>159589</td>\n",
       "      <td>189900</td>\n",
       "      <td>WebOS</td>\n",
       "      <td>3.9</td>\n",
       "    </tr>\n",
       "    <tr>\n",
       "      <th>713</th>\n",
       "      <td>LG</td>\n",
       "      <td>HD Plasma</td>\n",
       "      <td>50</td>\n",
       "      <td>57990</td>\n",
       "      <td>57990</td>\n",
       "      <td>WebOS</td>\n",
       "      <td>3.9</td>\n",
       "    </tr>\n",
       "    <tr>\n",
       "      <th>714</th>\n",
       "      <td>LG</td>\n",
       "      <td>Full HD LED</td>\n",
       "      <td>60</td>\n",
       "      <td>210000</td>\n",
       "      <td>210000</td>\n",
       "      <td>WebOS</td>\n",
       "      <td>4.4</td>\n",
       "    </tr>\n",
       "    <tr>\n",
       "      <th>719</th>\n",
       "      <td>LG</td>\n",
       "      <td>Ultra HD LED</td>\n",
       "      <td>55</td>\n",
       "      <td>142237</td>\n",
       "      <td>169900</td>\n",
       "      <td>WebOS</td>\n",
       "      <td>5.0</td>\n",
       "    </tr>\n",
       "    <tr>\n",
       "      <th>723</th>\n",
       "      <td>LG</td>\n",
       "      <td>Full HD LED</td>\n",
       "      <td>60</td>\n",
       "      <td>190000</td>\n",
       "      <td>190000</td>\n",
       "      <td>WebOS</td>\n",
       "      <td>4.8</td>\n",
       "    </tr>\n",
       "  </tbody>\n",
       "</table>\n",
       "<p>122 rows × 7 columns</p>\n",
       "</div>"
      ],
      "text/plain": [
       "    Brand    Resolution  Size   Selling Price  Original Price  \\\n",
       "16    LG         HD LED     32          17499           21990   \n",
       "30    LG    Full HD LED     43          33490           40990   \n",
       "34    LG   Ultra HD LED     55          52999           79990   \n",
       "44    LG   Ultra HD LED     43          42990           59990   \n",
       "57    LG   Ultra HD LED     50          49999           64990   \n",
       "..    ...           ...    ...            ...             ...   \n",
       "712   LG   Ultra HD LED     55         159589          189900   \n",
       "713   LG      HD Plasma     50          57990           57990   \n",
       "714   LG    Full HD LED     60         210000          210000   \n",
       "719   LG   Ultra HD LED     55         142237          169900   \n",
       "723   LG    Full HD LED     60         190000          190000   \n",
       "\n",
       "    Operating System  Rating  \n",
       "16             Linux     4.4  \n",
       "30             WebOS     4.4  \n",
       "34             WebOS     4.4  \n",
       "44             WebOS     4.5  \n",
       "57             WebOS     4.4  \n",
       "..               ...     ...  \n",
       "712            WebOS     3.9  \n",
       "713            WebOS     3.9  \n",
       "714            WebOS     4.4  \n",
       "719            WebOS     5.0  \n",
       "723            WebOS     4.8  \n",
       "\n",
       "[122 rows x 7 columns]"
      ]
     },
     "execution_count": 270,
     "metadata": {},
     "output_type": "execute_result"
    }
   ],
   "source": [
    "LG"
   ]
  },
  {
   "cell_type": "code",
   "execution_count": 271,
   "metadata": {},
   "outputs": [
    {
     "data": {
      "text/plain": [
       "Brand  Resolution  \n",
       "LG     Ultra HD LED    79\n",
       "       Full HD LED     27\n",
       "       HD LED          14\n",
       "       HD Plasma        2\n",
       "Name: Resolution, dtype: int64"
      ]
     },
     "execution_count": 271,
     "metadata": {},
     "output_type": "execute_result"
    }
   ],
   "source": [
    "LG.groupby(['Brand'])['Resolution'].value_counts()"
   ]
  },
  {
   "cell_type": "code",
   "execution_count": 272,
   "metadata": {},
   "outputs": [
    {
     "data": {
      "text/plain": [
       "Brand  Operating System\n",
       "LG     WebOS               109\n",
       "       Linux                13\n",
       "Name: Operating System, dtype: int64"
      ]
     },
     "execution_count": 272,
     "metadata": {},
     "output_type": "execute_result"
    }
   ],
   "source": [
    "LG.groupby(['Brand'])['Operating System'].value_counts()"
   ]
  },
  {
   "cell_type": "code",
   "execution_count": 273,
   "metadata": {},
   "outputs": [
    {
     "data": {
      "text/plain": [
       "4.263114754098358"
      ]
     },
     "execution_count": 273,
     "metadata": {},
     "output_type": "execute_result"
    }
   ],
   "source": [
    "LG['Rating'].mean()"
   ]
  },
  {
   "cell_type": "code",
   "execution_count": null,
   "metadata": {},
   "outputs": [],
   "source": [
    "### LG has all kind of resolutions like Samsung except \"QLED Ultra HD\"\n",
    "### LG has WebOS which is also a Linux based OS\n",
    "### LG also has less Average rating of 4.26 compared to SONY."
   ]
  },
  {
   "cell_type": "code",
   "execution_count": 277,
   "metadata": {},
   "outputs": [
    {
     "data": {
      "text/html": [
       "<div>\n",
       "<style scoped>\n",
       "    .dataframe tbody tr th:only-of-type {\n",
       "        vertical-align: middle;\n",
       "    }\n",
       "\n",
       "    .dataframe tbody tr th {\n",
       "        vertical-align: top;\n",
       "    }\n",
       "\n",
       "    .dataframe thead th {\n",
       "        text-align: right;\n",
       "    }\n",
       "</style>\n",
       "<table border=\"1\" class=\"dataframe\">\n",
       "  <thead>\n",
       "    <tr style=\"text-align: right;\">\n",
       "      <th></th>\n",
       "      <th>Brand</th>\n",
       "      <th>Resolution</th>\n",
       "      <th>Size</th>\n",
       "      <th>Selling Price</th>\n",
       "      <th>Original Price</th>\n",
       "      <th>Operating System</th>\n",
       "      <th>Rating</th>\n",
       "    </tr>\n",
       "  </thead>\n",
       "  <tbody>\n",
       "    <tr>\n",
       "      <th>0</th>\n",
       "      <td>TOSHIBA</td>\n",
       "      <td>Ultra HD LED</td>\n",
       "      <td>55</td>\n",
       "      <td>37999</td>\n",
       "      <td>54990</td>\n",
       "      <td>VIDAA</td>\n",
       "      <td>4.3</td>\n",
       "    </tr>\n",
       "    <tr>\n",
       "      <th>1</th>\n",
       "      <td>TCL</td>\n",
       "      <td>QLED Ultra HD</td>\n",
       "      <td>55</td>\n",
       "      <td>52999</td>\n",
       "      <td>129990</td>\n",
       "      <td>Android</td>\n",
       "      <td>4.4</td>\n",
       "    </tr>\n",
       "    <tr>\n",
       "      <th>2</th>\n",
       "      <td>realme</td>\n",
       "      <td>HD LED</td>\n",
       "      <td>32</td>\n",
       "      <td>13999</td>\n",
       "      <td>17999</td>\n",
       "      <td>Android</td>\n",
       "      <td>4.3</td>\n",
       "    </tr>\n",
       "    <tr>\n",
       "      <th>3</th>\n",
       "      <td>Mi</td>\n",
       "      <td>HD LED</td>\n",
       "      <td>32</td>\n",
       "      <td>14999</td>\n",
       "      <td>19999</td>\n",
       "      <td>Android</td>\n",
       "      <td>4.4</td>\n",
       "    </tr>\n",
       "    <tr>\n",
       "      <th>4</th>\n",
       "      <td>realme</td>\n",
       "      <td>HD LED</td>\n",
       "      <td>32</td>\n",
       "      <td>12999</td>\n",
       "      <td>21999</td>\n",
       "      <td>Android</td>\n",
       "      <td>4.3</td>\n",
       "    </tr>\n",
       "  </tbody>\n",
       "</table>\n",
       "</div>"
      ],
      "text/plain": [
       "     Brand     Resolution  Size   Selling Price  Original Price  \\\n",
       "0  TOSHIBA   Ultra HD LED     55          37999           54990   \n",
       "1     TCL   QLED Ultra HD     55          52999          129990   \n",
       "2  realme          HD LED     32          13999           17999   \n",
       "3      Mi          HD LED     32          14999           19999   \n",
       "4  realme          HD LED     32          12999           21999   \n",
       "\n",
       "  Operating System  Rating  \n",
       "0            VIDAA     4.3  \n",
       "1          Android     4.4  \n",
       "2          Android     4.3  \n",
       "3          Android     4.4  \n",
       "4          Android     4.3  "
      ]
     },
     "execution_count": 277,
     "metadata": {},
     "output_type": "execute_result"
    }
   ],
   "source": [
    "df.head()"
   ]
  },
  {
   "cell_type": "code",
   "execution_count": null,
   "metadata": {},
   "outputs": [],
   "source": [
    "### Resolution Vs Avg. Selling Price "
   ]
  },
  {
   "cell_type": "code",
   "execution_count": 299,
   "metadata": {},
   "outputs": [
    {
     "data": {
      "image/png": "[encoded data removed]",
      "text/plain": [
       "<Figure size 432x288 with 1 Axes>"
      ]
     },
     "metadata": {
      "needs_background": "light"
     },
     "output_type": "display_data"
    }
   ],
   "source": [
    "sns.barplot(x= 'Resolution', y = \"Selling Price\", data = df, saturation = 0.9, )\n",
    "plt.xticks(rotation = 'vertical')\n",
    "plt.title(\"Resolution Vs Selling Price\")\n",
    "plt.show()"
   ]
  },
  {
   "cell_type": "code",
   "execution_count": null,
   "metadata": {},
   "outputs": [],
   "source": [
    "# Above Plot shows Average Selling Price of all Tvs in different resolutions. \n",
    "# QLED Ultra HD has highest avg. selling price of approx. 120000 bucks followed by Ultra HD LED. \n",
    "# least among them is HD LED."
   ]
  },
  {
   "cell_type": "code",
   "execution_count": null,
   "metadata": {},
   "outputs": [],
   "source": [
    "## Resolution Vs Original Price"
   ]
  },
  {
   "cell_type": "code",
   "execution_count": 300,
   "metadata": {},
   "outputs": [
    {
     "data": {
      "image/png": "[encoded data removed]",
      "text/plain": [
       "<Figure size 432x288 with 1 Axes>"
      ]
     },
     "metadata": {
      "needs_background": "light"
     },
     "output_type": "display_data"
    }
   ],
   "source": [
    "sns.barplot(x= 'Resolution', y = \"Original Price\", data = df, saturation = 0.9)\n",
    "plt.xticks(rotation = 'vertical')\n",
    "plt.title(\"Resolution Vs Original Price\")\n",
    "plt.show()"
   ]
  },
  {
   "cell_type": "code",
   "execution_count": null,
   "metadata": {},
   "outputs": [],
   "source": [
    "# Above Plot shows Average Original Price of all Tvs in different resolutions. \n",
    "# QLED Ultra HD has highest avg. original price of approx. 175000 bucks followed by Ultra HD LED. \n",
    "# least among them is HD LED.\n",
    "# The difference in prices shows how ecommerce sites provide offers."
   ]
  },
  {
   "cell_type": "code",
   "execution_count": 301,
   "metadata": {},
   "outputs": [
    {
     "data": {
      "text/html": [
       "<div>\n",
       "<style scoped>\n",
       "    .dataframe tbody tr th:only-of-type {\n",
       "        vertical-align: middle;\n",
       "    }\n",
       "\n",
       "    .dataframe tbody tr th {\n",
       "        vertical-align: top;\n",
       "    }\n",
       "\n",
       "    .dataframe thead th {\n",
       "        text-align: right;\n",
       "    }\n",
       "</style>\n",
       "<table border=\"1\" class=\"dataframe\">\n",
       "  <thead>\n",
       "    <tr style=\"text-align: right;\">\n",
       "      <th></th>\n",
       "      <th>Brand</th>\n",
       "      <th>Resolution</th>\n",
       "      <th>Size</th>\n",
       "      <th>Selling Price</th>\n",
       "      <th>Original Price</th>\n",
       "      <th>Operating System</th>\n",
       "      <th>Rating</th>\n",
       "    </tr>\n",
       "  </thead>\n",
       "  <tbody>\n",
       "    <tr>\n",
       "      <th>0</th>\n",
       "      <td>TOSHIBA</td>\n",
       "      <td>Ultra HD LED</td>\n",
       "      <td>55</td>\n",
       "      <td>37999</td>\n",
       "      <td>54990</td>\n",
       "      <td>VIDAA</td>\n",
       "      <td>4.3</td>\n",
       "    </tr>\n",
       "    <tr>\n",
       "      <th>1</th>\n",
       "      <td>TCL</td>\n",
       "      <td>QLED Ultra HD</td>\n",
       "      <td>55</td>\n",
       "      <td>52999</td>\n",
       "      <td>129990</td>\n",
       "      <td>Android</td>\n",
       "      <td>4.4</td>\n",
       "    </tr>\n",
       "    <tr>\n",
       "      <th>2</th>\n",
       "      <td>realme</td>\n",
       "      <td>HD LED</td>\n",
       "      <td>32</td>\n",
       "      <td>13999</td>\n",
       "      <td>17999</td>\n",
       "      <td>Android</td>\n",
       "      <td>4.3</td>\n",
       "    </tr>\n",
       "    <tr>\n",
       "      <th>3</th>\n",
       "      <td>Mi</td>\n",
       "      <td>HD LED</td>\n",
       "      <td>32</td>\n",
       "      <td>14999</td>\n",
       "      <td>19999</td>\n",
       "      <td>Android</td>\n",
       "      <td>4.4</td>\n",
       "    </tr>\n",
       "    <tr>\n",
       "      <th>4</th>\n",
       "      <td>realme</td>\n",
       "      <td>HD LED</td>\n",
       "      <td>32</td>\n",
       "      <td>12999</td>\n",
       "      <td>21999</td>\n",
       "      <td>Android</td>\n",
       "      <td>4.3</td>\n",
       "    </tr>\n",
       "  </tbody>\n",
       "</table>\n",
       "</div>"
      ],
      "text/plain": [
       "     Brand     Resolution  Size   Selling Price  Original Price  \\\n",
       "0  TOSHIBA   Ultra HD LED     55          37999           54990   \n",
       "1     TCL   QLED Ultra HD     55          52999          129990   \n",
       "2  realme          HD LED     32          13999           17999   \n",
       "3      Mi          HD LED     32          14999           19999   \n",
       "4  realme          HD LED     32          12999           21999   \n",
       "\n",
       "  Operating System  Rating  \n",
       "0            VIDAA     4.3  \n",
       "1          Android     4.4  \n",
       "2          Android     4.3  \n",
       "3          Android     4.4  \n",
       "4          Android     4.3  "
      ]
     },
     "execution_count": 301,
     "metadata": {},
     "output_type": "execute_result"
    }
   ],
   "source": [
    "df.head()"
   ]
  },
  {
   "cell_type": "code",
   "execution_count": 318,
   "metadata": {},
   "outputs": [],
   "source": [
    "df1 = df.copy()"
   ]
  },
  {
   "cell_type": "code",
   "execution_count": 319,
   "metadata": {},
   "outputs": [
    {
     "data": {
      "text/html": [
       "<div>\n",
       "<style scoped>\n",
       "    .dataframe tbody tr th:only-of-type {\n",
       "        vertical-align: middle;\n",
       "    }\n",
       "\n",
       "    .dataframe tbody tr th {\n",
       "        vertical-align: top;\n",
       "    }\n",
       "\n",
       "    .dataframe thead th {\n",
       "        text-align: right;\n",
       "    }\n",
       "</style>\n",
       "<table border=\"1\" class=\"dataframe\">\n",
       "  <thead>\n",
       "    <tr style=\"text-align: right;\">\n",
       "      <th></th>\n",
       "      <th>Brand</th>\n",
       "      <th>Resolution</th>\n",
       "      <th>Size</th>\n",
       "      <th>Selling Price</th>\n",
       "      <th>Original Price</th>\n",
       "      <th>Operating System</th>\n",
       "      <th>Rating</th>\n",
       "    </tr>\n",
       "  </thead>\n",
       "  <tbody>\n",
       "    <tr>\n",
       "      <th>0</th>\n",
       "      <td>TOSHIBA</td>\n",
       "      <td>Ultra HD LED</td>\n",
       "      <td>55</td>\n",
       "      <td>37999</td>\n",
       "      <td>54990</td>\n",
       "      <td>VIDAA</td>\n",
       "      <td>4.3</td>\n",
       "    </tr>\n",
       "    <tr>\n",
       "      <th>1</th>\n",
       "      <td>TCL</td>\n",
       "      <td>QLED Ultra HD</td>\n",
       "      <td>55</td>\n",
       "      <td>52999</td>\n",
       "      <td>129990</td>\n",
       "      <td>Android</td>\n",
       "      <td>4.4</td>\n",
       "    </tr>\n",
       "    <tr>\n",
       "      <th>2</th>\n",
       "      <td>realme</td>\n",
       "      <td>HD LED</td>\n",
       "      <td>32</td>\n",
       "      <td>13999</td>\n",
       "      <td>17999</td>\n",
       "      <td>Android</td>\n",
       "      <td>4.3</td>\n",
       "    </tr>\n",
       "    <tr>\n",
       "      <th>3</th>\n",
       "      <td>Mi</td>\n",
       "      <td>HD LED</td>\n",
       "      <td>32</td>\n",
       "      <td>14999</td>\n",
       "      <td>19999</td>\n",
       "      <td>Android</td>\n",
       "      <td>4.4</td>\n",
       "    </tr>\n",
       "    <tr>\n",
       "      <th>4</th>\n",
       "      <td>realme</td>\n",
       "      <td>HD LED</td>\n",
       "      <td>32</td>\n",
       "      <td>12999</td>\n",
       "      <td>21999</td>\n",
       "      <td>Android</td>\n",
       "      <td>4.3</td>\n",
       "    </tr>\n",
       "  </tbody>\n",
       "</table>\n",
       "</div>"
      ],
      "text/plain": [
       "     Brand     Resolution  Size   Selling Price  Original Price  \\\n",
       "0  TOSHIBA   Ultra HD LED     55          37999           54990   \n",
       "1     TCL   QLED Ultra HD     55          52999          129990   \n",
       "2  realme          HD LED     32          13999           17999   \n",
       "3      Mi          HD LED     32          14999           19999   \n",
       "4  realme          HD LED     32          12999           21999   \n",
       "\n",
       "  Operating System  Rating  \n",
       "0            VIDAA     4.3  \n",
       "1          Android     4.4  \n",
       "2          Android     4.3  \n",
       "3          Android     4.4  \n",
       "4          Android     4.3  "
      ]
     },
     "execution_count": 319,
     "metadata": {},
     "output_type": "execute_result"
    }
   ],
   "source": [
    "df1.head()"
   ]
  },
  {
   "cell_type": "code",
   "execution_count": 320,
   "metadata": {},
   "outputs": [],
   "source": [
    "df1['diff']= df1['Original Price']-df1['Selling Price']"
   ]
  },
  {
   "cell_type": "code",
   "execution_count": 321,
   "metadata": {},
   "outputs": [
    {
     "data": {
      "text/html": [
       "<div>\n",
       "<style scoped>\n",
       "    .dataframe tbody tr th:only-of-type {\n",
       "        vertical-align: middle;\n",
       "    }\n",
       "\n",
       "    .dataframe tbody tr th {\n",
       "        vertical-align: top;\n",
       "    }\n",
       "\n",
       "    .dataframe thead th {\n",
       "        text-align: right;\n",
       "    }\n",
       "</style>\n",
       "<table border=\"1\" class=\"dataframe\">\n",
       "  <thead>\n",
       "    <tr style=\"text-align: right;\">\n",
       "      <th></th>\n",
       "      <th>Brand</th>\n",
       "      <th>Resolution</th>\n",
       "      <th>Size</th>\n",
       "      <th>Selling Price</th>\n",
       "      <th>Original Price</th>\n",
       "      <th>Operating System</th>\n",
       "      <th>Rating</th>\n",
       "      <th>diff</th>\n",
       "    </tr>\n",
       "  </thead>\n",
       "  <tbody>\n",
       "    <tr>\n",
       "      <th>0</th>\n",
       "      <td>TOSHIBA</td>\n",
       "      <td>Ultra HD LED</td>\n",
       "      <td>55</td>\n",
       "      <td>37999</td>\n",
       "      <td>54990</td>\n",
       "      <td>VIDAA</td>\n",
       "      <td>4.3</td>\n",
       "      <td>16991</td>\n",
       "    </tr>\n",
       "    <tr>\n",
       "      <th>1</th>\n",
       "      <td>TCL</td>\n",
       "      <td>QLED Ultra HD</td>\n",
       "      <td>55</td>\n",
       "      <td>52999</td>\n",
       "      <td>129990</td>\n",
       "      <td>Android</td>\n",
       "      <td>4.4</td>\n",
       "      <td>76991</td>\n",
       "    </tr>\n",
       "    <tr>\n",
       "      <th>2</th>\n",
       "      <td>realme</td>\n",
       "      <td>HD LED</td>\n",
       "      <td>32</td>\n",
       "      <td>13999</td>\n",
       "      <td>17999</td>\n",
       "      <td>Android</td>\n",
       "      <td>4.3</td>\n",
       "      <td>4000</td>\n",
       "    </tr>\n",
       "    <tr>\n",
       "      <th>3</th>\n",
       "      <td>Mi</td>\n",
       "      <td>HD LED</td>\n",
       "      <td>32</td>\n",
       "      <td>14999</td>\n",
       "      <td>19999</td>\n",
       "      <td>Android</td>\n",
       "      <td>4.4</td>\n",
       "      <td>5000</td>\n",
       "    </tr>\n",
       "    <tr>\n",
       "      <th>4</th>\n",
       "      <td>realme</td>\n",
       "      <td>HD LED</td>\n",
       "      <td>32</td>\n",
       "      <td>12999</td>\n",
       "      <td>21999</td>\n",
       "      <td>Android</td>\n",
       "      <td>4.3</td>\n",
       "      <td>9000</td>\n",
       "    </tr>\n",
       "  </tbody>\n",
       "</table>\n",
       "</div>"
      ],
      "text/plain": [
       "     Brand     Resolution  Size   Selling Price  Original Price  \\\n",
       "0  TOSHIBA   Ultra HD LED     55          37999           54990   \n",
       "1     TCL   QLED Ultra HD     55          52999          129990   \n",
       "2  realme          HD LED     32          13999           17999   \n",
       "3      Mi          HD LED     32          14999           19999   \n",
       "4  realme          HD LED     32          12999           21999   \n",
       "\n",
       "  Operating System  Rating   diff  \n",
       "0            VIDAA     4.3  16991  \n",
       "1          Android     4.4  76991  \n",
       "2          Android     4.3   4000  \n",
       "3          Android     4.4   5000  \n",
       "4          Android     4.3   9000  "
      ]
     },
     "execution_count": 321,
     "metadata": {},
     "output_type": "execute_result"
    }
   ],
   "source": [
    "df1.head()"
   ]
  },
  {
   "cell_type": "code",
   "execution_count": 338,
   "metadata": {},
   "outputs": [
    {
     "data": {
      "image/png": "[encoded data removed]",
      "text/plain": [
       "<Figure size 432x288 with 1 Axes>"
      ]
     },
     "metadata": {
      "needs_background": "light"
     },
     "output_type": "display_data"
    }
   ],
   "source": [
    "sns.barplot(x= 'Resolution', y = \"Rating\", data = df, saturation = 0.9)\n",
    "plt.xticks(rotation = 'vertical')\n",
    "plt.title(\"Resolution Vs Rating\")\n",
    "plt.show()"
   ]
  },
  {
   "cell_type": "code",
   "execution_count": 339,
   "metadata": {},
   "outputs": [],
   "source": [
    "# Above plot shows Avg. Rating of different kinds of Resolution.\n",
    "# Amongst them, QLED Ultra HD has highest avg. rating of approx. 4.5"
   ]
  },
  {
   "cell_type": "code",
   "execution_count": 341,
   "metadata": {},
   "outputs": [
    {
     "data": {
      "image/png": "[encoded data removed]",
      "text/plain": [
       "<Figure size 432x288 with 1 Axes>"
      ]
     },
     "metadata": {
      "needs_background": "light"
     },
     "output_type": "display_data"
    }
   ],
   "source": [
    "sns.barplot(x= 'Operating System', y = \"Selling Price\", data = df, saturation = 0.9)\n",
    "plt.xticks(rotation = 'vertical')\n",
    "plt.title(\"OS Vs Selling Price\")\n",
    "plt.show()"
   ]
  },
  {
   "cell_type": "code",
   "execution_count": 342,
   "metadata": {},
   "outputs": [],
   "source": [
    "### From the plot, Tizen, WebOS Operating System are the most expensive TVs. while HomeOS is less affordable.\n",
    "### Tizen is Samsung Tvs OS, while WebOS is LG Tvs OS.\n",
    "### We have already seen, Samsung has all different resolutions and While, LG too have all kinds of resolutions, except QLED Ultra HD.\n",
    "### So, it's one of the most expensive TV Brand."
   ]
  },
  {
   "cell_type": "code",
   "execution_count": 349,
   "metadata": {},
   "outputs": [
    {
     "data": {
      "text/html": [
       "<div>\n",
       "<style scoped>\n",
       "    .dataframe tbody tr th:only-of-type {\n",
       "        vertical-align: middle;\n",
       "    }\n",
       "\n",
       "    .dataframe tbody tr th {\n",
       "        vertical-align: top;\n",
       "    }\n",
       "\n",
       "    .dataframe thead th {\n",
       "        text-align: right;\n",
       "    }\n",
       "</style>\n",
       "<table border=\"1\" class=\"dataframe\">\n",
       "  <thead>\n",
       "    <tr style=\"text-align: right;\">\n",
       "      <th></th>\n",
       "      <th>Brand</th>\n",
       "      <th>Resolution</th>\n",
       "      <th>Size</th>\n",
       "      <th>Selling Price</th>\n",
       "      <th>Original Price</th>\n",
       "      <th>Operating System</th>\n",
       "      <th>Rating</th>\n",
       "    </tr>\n",
       "  </thead>\n",
       "  <tbody>\n",
       "    <tr>\n",
       "      <th>0</th>\n",
       "      <td>TOSHIBA</td>\n",
       "      <td>Ultra HD LED</td>\n",
       "      <td>55</td>\n",
       "      <td>37999</td>\n",
       "      <td>54990</td>\n",
       "      <td>VIDAA</td>\n",
       "      <td>4.3</td>\n",
       "    </tr>\n",
       "    <tr>\n",
       "      <th>1</th>\n",
       "      <td>TCL</td>\n",
       "      <td>QLED Ultra HD</td>\n",
       "      <td>55</td>\n",
       "      <td>52999</td>\n",
       "      <td>129990</td>\n",
       "      <td>Android</td>\n",
       "      <td>4.4</td>\n",
       "    </tr>\n",
       "    <tr>\n",
       "      <th>2</th>\n",
       "      <td>realme</td>\n",
       "      <td>HD LED</td>\n",
       "      <td>32</td>\n",
       "      <td>13999</td>\n",
       "      <td>17999</td>\n",
       "      <td>Android</td>\n",
       "      <td>4.3</td>\n",
       "    </tr>\n",
       "    <tr>\n",
       "      <th>3</th>\n",
       "      <td>Mi</td>\n",
       "      <td>HD LED</td>\n",
       "      <td>32</td>\n",
       "      <td>14999</td>\n",
       "      <td>19999</td>\n",
       "      <td>Android</td>\n",
       "      <td>4.4</td>\n",
       "    </tr>\n",
       "    <tr>\n",
       "      <th>4</th>\n",
       "      <td>realme</td>\n",
       "      <td>HD LED</td>\n",
       "      <td>32</td>\n",
       "      <td>12999</td>\n",
       "      <td>21999</td>\n",
       "      <td>Android</td>\n",
       "      <td>4.3</td>\n",
       "    </tr>\n",
       "  </tbody>\n",
       "</table>\n",
       "</div>"
      ],
      "text/plain": [
       "     Brand     Resolution  Size   Selling Price  Original Price  \\\n",
       "0  TOSHIBA   Ultra HD LED     55          37999           54990   \n",
       "1     TCL   QLED Ultra HD     55          52999          129990   \n",
       "2  realme          HD LED     32          13999           17999   \n",
       "3      Mi          HD LED     32          14999           19999   \n",
       "4  realme          HD LED     32          12999           21999   \n",
       "\n",
       "  Operating System  Rating  \n",
       "0            VIDAA     4.3  \n",
       "1          Android     4.4  \n",
       "2          Android     4.3  \n",
       "3          Android     4.4  \n",
       "4          Android     4.3  "
      ]
     },
     "execution_count": 349,
     "metadata": {},
     "output_type": "execute_result"
    }
   ],
   "source": [
    "df.head()"
   ]
  },
  {
   "cell_type": "code",
   "execution_count": null,
   "metadata": {},
   "outputs": [],
   "source": []
  }
 ],
 "metadata": {
  "kernelspec": {
   "display_name": "Python 3",
   "language": "python",
   "name": "python3"
  },
  "language_info": {
   "codemirror_mode": {
    "name": "ipython",
    "version": 3
   },
   "file_extension": ".py",
   "mimetype": "text/x-python",
   "name": "python",
   "nbconvert_exporter": "python",
   "pygments_lexer": "ipython3",
   "version": "3.7.3"
  }
 },
 "nbformat": 4,
 "nbformat_minor": 2
}
